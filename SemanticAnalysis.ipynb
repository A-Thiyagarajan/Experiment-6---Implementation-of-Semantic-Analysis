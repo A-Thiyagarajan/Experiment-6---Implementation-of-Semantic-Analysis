{
  "nbformat": 4,
  "nbformat_minor": 0,
  "metadata": {
    "colab": {
      "provenance": [],
      "authorship_tag": "ABX9TyMUAy1jPHkEN9+X9lXgHFS3",
      "include_colab_link": true
    },
    "kernelspec": {
      "name": "python3",
      "display_name": "Python 3"
    },
    "language_info": {
      "name": "python"
    }
  },
  "cells": [
    {
      "cell_type": "markdown",
      "metadata": {
        "id": "view-in-github",
        "colab_type": "text"
      },
      "source": [
        "<a href=\"https://colab.research.google.com/github/A-Thiyagarajan/Experiment-6---Implementation-of-Semantic-Analysis/blob/main/SemanticAnalysis.ipynb\" target=\"_parent\"><img src=\"https://colab.research.google.com/assets/colab-badge.svg\" alt=\"Open In Colab\"/></a>"
      ]
    },
    {
      "cell_type": "code",
      "execution_count": 1,
      "metadata": {
        "colab": {
          "base_uri": "https://localhost:8080/"
        },
        "id": "M5us72BzGuN_",
        "outputId": "45679f53-c771-478c-d32f-eade03cbd1f4"
      },
      "outputs": [
        {
          "output_type": "stream",
          "name": "stderr",
          "text": [
            "[nltk_data] Downloading package punkt to /root/nltk_data...\n",
            "[nltk_data]   Unzipping tokenizers/punkt.zip.\n",
            "[nltk_data] Downloading package averaged_perceptron_tagger to\n",
            "[nltk_data]     /root/nltk_data...\n",
            "[nltk_data]   Unzipping taggers/averaged_perceptron_tagger.zip.\n",
            "[nltk_data] Downloading package wordnet to /root/nltk_data...\n"
          ]
        },
        {
          "output_type": "stream",
          "name": "stdout",
          "text": [
            "Verb: said\n",
            "Synonyms: read, allege, suppose, pronounce, tell, enjoin, said, enounce, aforesaid, enunciate, articulate, aver, aforementioned, order, say, state, sound_out\n",
            "\n",
            "Verb: loved\n",
            "Synonyms: jazz, get_it_on, lie_with, bed, have_a_go_at_it, have_it_away, do_it, sleep_together, screw, make_out, make_love, be_intimate, hump, love, know, have_intercourse, get_laid, eff, bang, sleep_with, have_sex, enjoy, fuck, roll_in_the_hay, bonk, loved, have_it_off\n",
            "\n",
            "Verb: be\n",
            "Synonyms: atomic_number_4, beryllium, be, glucinium, equal, make_up, personify, live, Be, follow, embody, exist, represent, constitute, cost, comprise\n",
            "\n",
            "Verb: came\n",
            "Synonyms: fall, follow, issue_forth, add_up, get_along, number, make_out, occur, fare, total, amount, get, descend, come, do, arrive, hail, derive, come_in, come_up\n",
            "\n",
            "Verb: is\n",
            "Synonyms: be, live, equal, make_up, personify, follow, embody, represent, exist, constitute, cost, comprise\n",
            "\n",
            "Verb: was\n",
            "Synonyms: WA, Evergreen_State, be, live, equal, make_up, personify, follow, embody, exist, represent, constitute, cost, comprise, Washington\n",
            "\n",
            "Verb: fell\n",
            "Synonyms: fall, decrease, fall_down, cut_down, accrue, light, diminish, cruel, lessen, strike_down, roughshod, return, drop, savage, flow, descend, hide, come, shine, felled_seam, fell, settle, go_down, pass, come_down, barbarous, brutal, vicious, hang, fly, strike, vanish, devolve, precipitate\n",
            "\n",
            "Verb: were\n",
            "Synonyms: be, live, equal, make_up, personify, follow, embody, represent, exist, constitute, cost, comprise\n",
            "\n",
            "Verb: had\n",
            "Synonyms: hold, give, accept, have_got, give_birth, consume, cause, take_in, experience, birth, sustain, own, get, ingest, bear, feature, deliver, throw, suffer, receive, induce, have, possess, make, stimulate, take, let\n",
            "\n",
            "Verb: do\n",
            "Synonyms: doh, dress, answer, coif, bash, practise, arrange, execute, get_along, cause, practice, make_out, perform, behave, fare, DO, ut, come, suffice, do, exercise, serve, set, brawl, manage, coiffe, act, make, Doctor_of_Osteopathy, coiffure\n",
            "\n"
          ]
        }
      ],
      "source": [
        "# Reg.no: 212222240110\n",
        "# Name: Thiyagarajan A\n",
        "\n",
        "import nltk\n",
        "from nltk.corpus import wordnet\n",
        "\n",
        "nltk.download('punkt')\n",
        "nltk.download('averaged_perceptron_tagger')\n",
        "nltk.download('wordnet')\n",
        "\n",
        "def get_synonyms(word):\n",
        "    synonyms = set()\n",
        "    for syn in wordnet.synsets(word):\n",
        "        for lemma in syn.lemmas():\n",
        "            synonyms.add(lemma.name())\n",
        "    return synonyms\n",
        "\n",
        "def process_text_file(file_path):\n",
        "    with open(file_path, 'r') as file:\n",
        "        text = file.read()\n",
        "    return text  # Return the processed text\n",
        "\n",
        "text = process_text_file('/content/text.txt')\n",
        "\n",
        "# Tokenize the text into sentences\n",
        "sentences = nltk.sent_tokenize(text)\n",
        "\n",
        "for sentence in sentences:\n",
        "    # Tokenize each sentence into words\n",
        "    words = nltk.word_tokenize(sentence)\n",
        "\n",
        "    # Perform part-of-speech tagging\n",
        "    pos_tags = nltk.pos_tag(words)\n",
        "\n",
        "    # Extract verbs\n",
        "    verbs = [word for word, pos in pos_tags if pos.startswith('V')]\n",
        "\n",
        "    # Get synonyms for each verb\n",
        "    for verb in verbs:\n",
        "        synonyms = get_synonyms(verb)\n",
        "        print(f\"Verb: {verb}\")\n",
        "        print(f\"Synonyms: {', '.join(synonyms)}\\n\")\n"
      ]
    }
  ]
}